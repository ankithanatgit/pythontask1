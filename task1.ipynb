{
  "cells": [
    {
      "cell_type": "code",
      "execution_count": null,
      "metadata": {
        "colab": {
          "base_uri": "https://localhost:8080/"
        },
        "id": "-rKh7EX0pQ_Q",
        "outputId": "a9707d97-a236-458d-f3f2-2182fadec681"
      },
      "outputs": [],
      "source": [
        "name = input(\"Enter your name: \")\n",
        "age = input(\"Enter your age: \")\n",
        "hobby = input(\"Enter your hobby: \")\n",
        "\n",
        "# Displaying a friendly message\n",
        "print(f\"\\nHello {name}! 👋\")\n",
        "print(f\"You are {age} years old and you love {hobby}.\")\n",
        "print(\"That's awesome! Keep doing what you enjoy 😊\")\n"
      ]
    }
  ],
  "metadata": {
    "colab": {
      "provenance": []
    },
    "kernelspec": {
      "display_name": "Python 3",
      "name": "python3"
    },
    "language_info": {
      "name": "python"
    }
  },
  "nbformat": 4,
  "nbformat_minor": 0
}
