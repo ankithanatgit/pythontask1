{
  "nbformat": 4,
  "nbformat_minor": 0,
  "metadata": {
    "colab": {
      "provenance": [],
      "authorship_tag": "ABX9TyOQXeuuvNlazVsWIjwovOpV",
      "include_colab_link": true
    },
    "kernelspec": {
      "name": "python3",
      "display_name": "Python 3"
    },
    "language_info": {
      "name": "python"
    }
  },
  "cells": [
    {
      "cell_type": "markdown",
      "metadata": {
        "id": "view-in-github",
        "colab_type": "text"
      },
      "source": [
        "<a href=\"https://colab.research.google.com/github/ankithanatgit/pythontask1/blob/main/task2.ipynb\" target=\"_parent\"><img src=\"https://colab.research.google.com/assets/colab-badge.svg\" alt=\"Open In Colab\"/></a>"
      ]
    },
    {
      "cell_type": "code",
      "execution_count": null,
      "metadata": {
        "colab": {
          "base_uri": "https://localhost:8080/"
        },
        "id": "Wuqb7ODVlMtP",
        "outputId": "43043fd7-5be4-47c2-a81f-cd71f74d5964"
      },
      "outputs": [
        {
          "output_type": "stream",
          "name": "stdout",
          "text": [
            "enter your marks65\n",
            "D grade\n"
          ]
        }
      ],
      "source": [
        "marks=int(input(\"enter your marks\"))\n",
        "if marks>=90:\n",
        "    print(\"A grade\")\n",
        "elif marks>=80:\n",
        "    print(\"B grade\")\n",
        "elif marks>=70:\n",
        "    print(\"C grade\")\n",
        "elif marks>=60:\n",
        "    print(\"D grade\")"
      ]
    }
  ]
}